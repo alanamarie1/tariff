Импортируем необходимые библиотеки и прочитаем файлы
import pandas as pd
import numpy as np
import seaborn as sns
import matplotlib.pyplot as plt
from scipy import stats as st
calls = pd.read_csv('/datasets/calls.csv')
Выведем первые 5 строк датафрейма calls.

calls.head()

calls.info()

calls['duration'].hist()
